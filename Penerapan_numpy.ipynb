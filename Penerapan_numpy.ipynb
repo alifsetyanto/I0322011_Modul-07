{
 "cells": [
  {
   "cell_type": "code",
   "execution_count": 1,
   "metadata": {},
   "outputs": [],
   "source": [
    "import numpy as np"
   ]
  },
  {
   "cell_type": "code",
   "execution_count": 2,
   "metadata": {},
   "outputs": [
    {
     "name": "stdout",
     "output_type": "stream",
     "text": [
      "[[1 2]\n",
      " [1 6]]\n"
     ]
    }
   ],
   "source": [
    "matriksA = np.array([[1,2],[1,6]])\n",
    "print(matriksA)"
   ]
  },
  {
   "cell_type": "code",
   "execution_count": 3,
   "metadata": {},
   "outputs": [
    {
     "name": "stdout",
     "output_type": "stream",
     "text": [
      "[[4 5]\n",
      " [2 7]]\n"
     ]
    }
   ],
   "source": [
    "matriksB = np.array([[4,5],[2,7]])\n",
    "print(matriksB)"
   ]
  },
  {
   "cell_type": "code",
   "execution_count": 4,
   "metadata": {},
   "outputs": [
    {
     "name": "stdout",
     "output_type": "stream",
     "text": [
      "[[ 5  7]\n",
      " [ 3 13]]\n"
     ]
    }
   ],
   "source": [
    "matriksC = matriksA + matriksB\n",
    "print(matriksC)"
   ]
  },
  {
   "cell_type": "code",
   "execution_count": 6,
   "metadata": {},
   "outputs": [
    {
     "name": "stdout",
     "output_type": "stream",
     "text": [
      "[[-3 -3]\n",
      " [-1 -1]]\n"
     ]
    }
   ],
   "source": [
    "matriksD = matriksA - matriksB\n",
    "print(matriksD)"
   ]
  },
  {
   "cell_type": "code",
   "execution_count": 7,
   "metadata": {},
   "outputs": [
    {
     "name": "stdout",
     "output_type": "stream",
     "text": [
      "[[ 8 19]\n",
      " [16 47]]\n"
     ]
    }
   ],
   "source": [
    "matriksE = np.dot(matriksA,matriksB)\n",
    "print(matriksE)"
   ]
  },
  {
   "cell_type": "code",
   "execution_count": 9,
   "metadata": {},
   "outputs": [
    {
     "name": "stdout",
     "output_type": "stream",
     "text": [
      "-4.000000000000001\n"
     ]
    }
   ],
   "source": [
    "matriksF = np.linalg.det([[1,2],[3,2]])\n",
    "print(matriksF)"
   ]
  },
  {
   "cell_type": "code",
   "execution_count": 11,
   "metadata": {},
   "outputs": [
    {
     "name": "stdout",
     "output_type": "stream",
     "text": [
      "[[1 2 3]\n",
      " [1 1 3]\n",
      " [1 1 1]]\n"
     ]
    }
   ],
   "source": [
    "matriksG = np.array([[1,1,1],[2,1,1],[3,3,1]])\n",
    "print(matriksG.transpose())"
   ]
  }
 ],
 "metadata": {
  "kernelspec": {
   "display_name": "Python 3",
   "language": "python",
   "name": "python3"
  },
  "language_info": {
   "codemirror_mode": {
    "name": "ipython",
    "version": 3
   },
   "file_extension": ".py",
   "mimetype": "text/x-python",
   "name": "python",
   "nbconvert_exporter": "python",
   "pygments_lexer": "ipython3",
   "version": "3.10.8"
  },
  "orig_nbformat": 4
 },
 "nbformat": 4,
 "nbformat_minor": 2
}
